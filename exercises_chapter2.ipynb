{
 "cells": [
  {
   "cell_type": "markdown",
   "metadata": {},
   "source": [
    "### Exercise 1\n",
    "\n",
    "Write a code for computing factorial"
   ]
  },
  {
   "cell_type": "code",
   "execution_count": null,
   "metadata": {},
   "outputs": [],
   "source": [
    "#for loop for computing factorial\n",
    "\n",
    "function factorial2(n)\n",
    "\n",
    "       F = 1.0  #storage for factorial\n",
    "       \n",
    "       if n > 0\n",
    "\n",
    "            for iter in 1:n\n",
    "                \n",
    "                F = F * iter\n",
    "\n",
    "            end #end for iter\n",
    "\n",
    "       end #end if\n",
    "\n",
    "       return F\n",
    "\n",
    "end #end function factorial2\n",
    "\n",
    "\n",
    "n = 5\n",
    "factorial(n) ≈ factorial2(n)\n"
   ]
  },
  {
   "cell_type": "markdown",
   "metadata": {},
   "source": [
    "### Exercise 2\n",
    "\n",
    "Generate one draw from $Y  \\sim Bin(n,p)$"
   ]
  },
  {
   "cell_type": "code",
   "execution_count": null,
   "metadata": {},
   "outputs": [],
   "source": [
    "\n",
    "function binomial_rv(n,p)\n",
    "\n",
    "    count = 0 #integer count\n",
    "\n",
    "    #generate the string of uniform random numbers\n",
    "    unif =  rand(n)\n",
    "\n",
    "\n",
    "    #count \n",
    "    for iter in 1:n\n",
    "\n",
    "        if unif[iter] < p\n",
    "            count =  count  +  1\n",
    "        end #end if unif\n",
    "\n",
    "    end #end for iter\n",
    "\n",
    "    return count\n",
    "\n",
    "end #end function binomial_rv\n",
    "\n",
    "\n",
    "#call the function\n",
    "out = binomial_rv(30000, 0.01)\n"
   ]
  },
  {
   "cell_type": "markdown",
   "metadata": {},
   "source": [
    "#### Compute an approximation to pi using Monte Carlo\n"
   ]
  },
  {
   "cell_type": "code",
   "execution_count": null,
   "metadata": {},
   "outputs": [],
   "source": [
    "nsim = 100000\n",
    "count = 0.0   \n",
    "\n",
    "for iter in 1:nsim\n",
    "\n",
    "    x,y = rand(2)\n",
    "\n",
    "    dist =  sqrt((x - 0.5)^2 + (y - 0.5)^2)\n",
    "    if dist < 0.5\n",
    "        count =  count + 1\n",
    "    end #end if\n",
    "\n",
    "end #end for iter \n",
    "\n",
    "area = count / nsim\n",
    "\n",
    "\n",
    "pi_estimate = area * 4\n"
   ]
  }
 ],
 "metadata": {
  "kernelspec": {
   "display_name": "Julia 1.7.2",
   "language": "julia",
   "name": "julia-1.7"
  },
  "language_info": {
   "file_extension": ".jl",
   "mimetype": "application/julia",
   "name": "julia",
   "version": "1.7.2"
  },
  "orig_nbformat": 4
 },
 "nbformat": 4,
 "nbformat_minor": 2
}
