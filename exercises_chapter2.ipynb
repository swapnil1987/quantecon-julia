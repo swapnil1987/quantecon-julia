{
 "cells": [
  {
   "cell_type": "markdown",
   "metadata": {},
   "source": [
    "### Exercise 1\n",
    "\n",
    "Write a code for computing factorial"
   ]
  },
  {
   "cell_type": "code",
   "execution_count": null,
   "metadata": {},
   "outputs": [],
   "source": [
    "#for loop for computing factorial\n",
    "\n",
    "function factorial2(n)\n",
    "\n",
    "       F = 1.0  #storage for factorial\n",
    "       \n",
    "       if n > 0\n",
    "\n",
    "            for iter in 1:n\n",
    "                \n",
    "                F = F * iter\n",
    "\n",
    "            end #end for iter\n",
    "\n",
    "       end #end if\n",
    "\n",
    "       return F\n",
    "\n",
    "end #end function factorial2\n",
    "\n",
    "\n",
    "n = 5\n",
    "factorial(n) ≈ factorial2(n)\n"
   ]
  },
  {
   "cell_type": "markdown",
   "metadata": {},
   "source": [
    "### Exercise 2\n",
    "\n",
    "Generate one draw from $Y  \\sim Bin(n,p)$"
   ]
  },
  {
   "cell_type": "code",
   "execution_count": null,
   "metadata": {},
   "outputs": [],
   "source": [
    "\n",
    "function binomial_rv(n,p)\n",
    "\n",
    "    count = 0 #integer count\n",
    "\n",
    "    #generate the string of uniform random numbers\n",
    "    unif =  rand(n)\n",
    "\n",
    "\n",
    "    #count \n",
    "    for iter in 1:n\n",
    "\n",
    "        if unif[iter] < p\n",
    "            count =  count  +  1\n",
    "        end #end if unif\n",
    "\n",
    "    end #end for iter\n",
    "\n",
    "    return count\n",
    "\n",
    "end #end function binomial_rv\n",
    "\n",
    "\n",
    "#call the function\n",
    "out = binomial_rv(30000, 0.01)\n"
   ]
  },
  {
   "cell_type": "markdown",
   "metadata": {},
   "source": [
    "#### Compute an approximation to pi using Monte Carlo\n"
   ]
  },
  {
   "cell_type": "code",
   "execution_count": null,
   "metadata": {},
   "outputs": [],
   "source": [
    "nsim = 100000\n",
    "count = 0.0   \n",
    "\n",
    "for iter in 1:nsim\n",
    "\n",
    "    x,y = rand(2)\n",
    "\n",
    "    dist =  sqrt((x - 0.5)^2 + (y - 0.5)^2)\n",
    "    if dist < 0.5\n",
    "        count =  count + 1\n",
    "    end #end if\n",
    "\n",
    "end #end for iter \n",
    "\n",
    "area = count / nsim\n",
    "\n",
    "\n",
    "pi_estimate = area * 4\n"
   ]
  },
  {
   "cell_type": "markdown",
   "metadata": {},
   "source": [
    "Write a program that prints one realization of the following random device:\n",
    "\n",
    "* Flip an unbiased coin 10 times.\n",
    "\n",
    "* If 3 consecutive heads occur one or more times within this sequence, pay one dollar.\n",
    "\n",
    "* If not, pay nothing.\n",
    "\n",
    "Once again use only rand() as your random number generator."
   ]
  },
  {
   "cell_type": "code",
   "execution_count": null,
   "metadata": {},
   "outputs": [],
   "source": [
    "payoff = 0\n",
    "count = 0\n",
    "\n",
    "print(\"Count = \")\n",
    "\n",
    "for i in 1:10\n",
    "    U = rand()\n",
    "    if U < 0.5\n",
    "        count += 1\n",
    "    else\n",
    "        count = 0\n",
    "    end\n",
    "    print(count)\n",
    "    if count == 3\n",
    "        payoff = 1\n",
    "    end\n",
    "end\n",
    "println(\"\\npayoff = $payoff\")"
   ]
  },
  {
   "cell_type": "markdown",
   "metadata": {},
   "source": [
    "Simulate and plot the correlated time series\n"
   ]
  },
  {
   "cell_type": "code",
   "execution_count": null,
   "metadata": {},
   "outputs": [],
   "source": [
    "using Plots\n",
    "n = 200\n",
    "α = 0.9\n",
    "x_0 = 0.0\n",
    "\n",
    "X = zeros(n)\n",
    "X[1] = x_0\n",
    "\n",
    "for iter in 2:n \n",
    "    X[iter] = α * X[iter-1] + randn()\n",
    "end #end for iter\n",
    "\n",
    "plot(1:n, X)"
   ]
  },
  {
   "cell_type": "markdown",
   "metadata": {},
   "source": [
    "#### Exercise 6\n",
    "\n",
    "Repeat exercise 5 with three different values of $\\alpha = 0, 0.8, 0.98$"
   ]
  },
  {
   "cell_type": "code",
   "execution_count": null,
   "metadata": {},
   "outputs": [],
   "source": [
    "function generateSeries(n, alpha, x0)\n",
    "\n",
    "    X = zeros(n)\n",
    "    X[1] = 0.0\n",
    "\n",
    "    for iter in 2:n \n",
    "        X[iter] = alpha *  X[iter-1] + randn()\n",
    "    end #end for iter\n",
    "\n",
    "    return X\n",
    "\n",
    "end #end function generateSeries\n",
    "\n",
    "\n",
    "n = 200\n",
    "x0 = 0.0\n",
    "\n",
    "X1 = generateSeries(n, 0, x0 )\n",
    "X2 = generateSeries(n, 0.8, x0 )\n",
    "X3 = generateSeries(n, 0.98, x0 )\n",
    "\n",
    "plot(1:n, X1)\n",
    "plot!(1:n, X2)\n",
    "plot!(1:n, X3)\n",
    "\n",
    "\n",
    "\n",
    "\n",
    "\n"
   ]
  },
  {
   "cell_type": "markdown",
   "metadata": {},
   "source": [
    "### Exercise 7 \n"
   ]
  },
  {
   "cell_type": "code",
   "execution_count": null,
   "metadata": {},
   "outputs": [],
   "source": [
    "using Distributions\n",
    "function computeT0(alpha)\n",
    "\n",
    "    sigma = 0.2 \n",
    "    alpha = alpha\n",
    "    x0 = 1.0\n",
    "    T = 200\n",
    "\n",
    "    X = zeros(T)\n",
    "    X[1] = x0\n",
    "    X[T] = 0.0\n",
    "    for iter in 2:(T-1)\n",
    "        X[iter] = alpha * X[iter - 1] + sigma * randn()\n",
    "    end\n",
    "\n",
    "    index = 1:T\n",
    "    T0 = minimum(index[X .<= 0])\n",
    "\n",
    "    return T0\n",
    "\n",
    "end #end function computeT0\n",
    "\n",
    "\n",
    "nsim = 100\n",
    "T0 = zeros(nsim)\n",
    "\n",
    "for iter in 1:nsim\n",
    "    T0[iter] = computeT0(1.0)\n",
    "end #end for iter\n",
    "\n",
    "T0\n",
    "\n",
    "#histogram(T0)\n",
    "\n"
   ]
  }
 ],
 "metadata": {
  "kernelspec": {
   "display_name": "Julia 1.7.2",
   "language": "julia",
   "name": "julia-1.7"
  },
  "language_info": {
   "file_extension": ".jl",
   "mimetype": "application/julia",
   "name": "julia",
   "version": "1.7.2"
  },
  "orig_nbformat": 4
 },
 "nbformat": 4,
 "nbformat_minor": 2
}
