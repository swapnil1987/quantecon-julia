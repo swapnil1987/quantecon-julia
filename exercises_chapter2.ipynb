{
 "cells": [
  {
   "cell_type": "markdown",
   "metadata": {},
   "source": [
    "### Exercise 1\n",
    "\n",
    "Write a code for computing factorial"
   ]
  },
  {
   "cell_type": "code",
   "execution_count": 2,
   "metadata": {},
   "outputs": [
    {
     "data": {
      "text/plain": [
       "true"
      ]
     },
     "execution_count": 2,
     "metadata": {},
     "output_type": "execute_result"
    }
   ],
   "source": [
    "#for loop for computing factorial\n",
    "\n",
    "function factorial2(n)\n",
    "\n",
    "       F = 1.0  #storage for factorial\n",
    "       \n",
    "       if n > 0\n",
    "\n",
    "            for iter in 1:n\n",
    "                \n",
    "                F = F * iter\n",
    "\n",
    "            end #end for iter\n",
    "\n",
    "       end #end if\n",
    "\n",
    "       return F\n",
    "\n",
    "end #end function factorial2\n",
    "\n",
    "\n",
    "n = 5\n",
    "factorial(n) ≈ factorial2(n)\n"
   ]
  },
  {
   "cell_type": "markdown",
   "metadata": {},
   "source": []
  }
 ],
 "metadata": {
  "kernelspec": {
   "display_name": "Julia 1.7.2",
   "language": "julia",
   "name": "julia-1.7"
  },
  "language_info": {
   "file_extension": ".jl",
   "mimetype": "application/julia",
   "name": "julia",
   "version": "1.7.2"
  },
  "orig_nbformat": 4
 },
 "nbformat": 4,
 "nbformat_minor": 2
}
