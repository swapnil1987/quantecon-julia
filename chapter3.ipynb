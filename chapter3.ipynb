{
 "cells": [
  {
   "cell_type": "code",
   "execution_count": 3,
   "metadata": {},
   "outputs": [
    {
     "data": {
      "text/plain": [
       "Bool"
      ]
     },
     "execution_count": 3,
     "metadata": {},
     "output_type": "execute_result"
    }
   ],
   "source": [
    "using LinearAlgebra, Statistics\n",
    "\n",
    "x =  true\n",
    "\n",
    "typeof(x)"
   ]
  },
  {
   "cell_type": "code",
   "execution_count": 22,
   "metadata": {},
   "outputs": [
    {
     "name": "stdout",
     "output_type": "stream",
     "text": [
      "2x - 3y = 1.0\n",
      "x + y = 3.0\n"
     ]
    }
   ],
   "source": [
    "y = 1 < 2\n",
    "\n",
    "\n",
    "typeof(1.0)\n",
    "\n",
    "typeof(1)\n",
    "\n",
    "\n",
    "x =  2.0; y = 1;\n",
    "\n",
    "typeof(x * y)\n",
    "\n",
    "\n",
    "@show 2x - 3y\n",
    "\n",
    "@show x+  y;"
   ]
  },
  {
   "cell_type": "code",
   "execution_count": 25,
   "metadata": {},
   "outputs": [
    {
     "data": {
      "text/plain": [
       "5 + 0im"
      ]
     },
     "execution_count": 25,
     "metadata": {},
     "output_type": "execute_result"
    }
   ],
   "source": [
    "\n",
    "x = 1 + 2im\n",
    "y = 1 - 2im\n",
    "\n",
    "x  * y"
   ]
  },
  {
   "cell_type": "code",
   "execution_count": 32,
   "metadata": {},
   "outputs": [
    {
     "data": {
      "text/plain": [
       "\"Charlie don't ski\""
      ]
     },
     "execution_count": 32,
     "metadata": {},
     "output_type": "execute_result"
    }
   ],
   "source": [
    "\n",
    "x = \"foobar\";\n",
    "\n",
    "typeof(x)\n",
    "\n",
    "\n",
    "\"x = $x\"\n",
    "\n",
    "\n",
    "x = 10.0; y = 30.0;\n",
    "\"x+y = $(x + y)\"\n",
    "\n",
    "\n",
    "s = \"Charlie don't surf\"\n",
    "\n",
    "split(s)\n",
    "\n",
    "replace(s, \"surf\" => \"ski\")"
   ]
  },
  {
   "cell_type": "code",
   "execution_count": 36,
   "metadata": {},
   "outputs": [
    {
     "data": {
      "text/plain": [
       "Tuple{Tuple{String, String}, String, Int64}"
      ]
     },
     "execution_count": 36,
     "metadata": {},
     "output_type": "execute_result"
    }
   ],
   "source": [
    "x = (\"foo\", \"bar\")\n",
    "\n",
    "y = (x, \"total\", 3)\n",
    "\n",
    "typeof(x)\n",
    "typeof(y)"
   ]
  },
  {
   "cell_type": "code",
   "execution_count": 37,
   "metadata": {},
   "outputs": [
    {
     "data": {
      "text/plain": [
       "(\"foo\", 1)"
      ]
     },
     "execution_count": 37,
     "metadata": {},
     "output_type": "execute_result"
    }
   ],
   "source": [
    "function f()\n",
    "    return \"foo\",1\n",
    "end #end function f \n",
    "\n",
    "f()"
   ]
  },
  {
   "cell_type": "code",
   "execution_count": 40,
   "metadata": {},
   "outputs": [
    {
     "data": {
      "text/plain": [
       "3-element Vector{Int64}:\n",
       " 10\n",
       " 20\n",
       " 30"
      ]
     },
     "execution_count": 40,
     "metadata": {},
     "output_type": "execute_result"
    }
   ],
   "source": [
    "x = [10,20,30,40]\n",
    "\n",
    "x[end]\n",
    "\n",
    "x[1:3]"
   ]
  },
  {
   "cell_type": "code",
   "execution_count": 45,
   "metadata": {},
   "outputs": [
    {
     "data": {
      "text/plain": [
       "ValueIterator for a Dict{String, Any} with 2 entries. Values:\n",
       "  \"Frodo\"\n",
       "  51"
      ]
     },
     "execution_count": 45,
     "metadata": {},
     "output_type": "execute_result"
    }
   ],
   "source": [
    "d = Dict(\"name\" => \"Frodo\", \"age\" => 51)\n",
    "\n",
    "d[\"age\"]\n",
    "\n",
    "keys(d)\n",
    "values(d)"
   ]
  },
  {
   "cell_type": "code",
   "execution_count": 46,
   "metadata": {},
   "outputs": [
    {
     "name": "stdout",
     "output_type": "stream",
     "text": [
      "Charlie doesn't surf\n",
      "Charlie doesn't ski\n"
     ]
    }
   ],
   "source": [
    "\n",
    "actions = [\"surf\", \"ski\"]\n",
    "\n",
    "for act in actions\n",
    "    println(\"Charlie doesn't $act\")\n",
    "end #end for act "
   ]
  },
  {
   "cell_type": "code",
   "execution_count": 47,
   "metadata": {},
   "outputs": [
    {
     "name": "stdout",
     "output_type": "stream",
     "text": [
      "The capital of Japan is Tokyo\n",
      "The capital of Korea is Seoul\n",
      "The capital of China is Beijing\n"
     ]
    }
   ],
   "source": [
    "countries = (\"Japan\", \"Korea\", \"China\")\n",
    "cities = (\"Tokyo\", \"Seoul\", \"Beijing\")\n",
    "for (country, city) in zip(countries, cities)\n",
    "    println(\"The capital of $country is $city\")\n",
    "end"
   ]
  },
  {
   "cell_type": "code",
   "execution_count": 51,
   "metadata": {},
   "outputs": [
    {
     "data": {
      "text/plain": [
       "3×3 Matrix{Int64}:\n",
       "  1    1    1\n",
       " 16   32   64\n",
       " 81  243  729"
      ]
     },
     "execution_count": 51,
     "metadata": {},
     "output_type": "execute_result"
    }
   ],
   "source": [
    "animals = [\"dog\", \"cat\", \"bird\"];   # Semicolon suppresses output\n",
    "\n",
    "plurals = [animal * \"s\" for animal in animals]\n",
    "\n",
    "a = [i^j for i in 1:3, j in 4:6]"
   ]
  },
  {
   "cell_type": "code",
   "execution_count": 1,
   "metadata": {},
   "outputs": [
    {
     "name": "stdout",
     "output_type": "stream",
     "text": [
      "  387.731 ms (2 allocations: 48 bytes)\n"
     ]
    },
    {
     "data": {
      "text/plain": [
       "4338615082255021824"
      ]
     },
     "metadata": {},
     "output_type": "display_data"
    }
   ],
   "source": [
    "using BenchmarkTools\n",
    "xs = 1:1000000000\n",
    "f(x) = x^2\n",
    "@btime sum(f(x) for x in xs)"
   ]
  },
  {
   "cell_type": "code",
   "execution_count": 7,
   "metadata": {},
   "outputs": [
    {
     "data": {
      "text/plain": [
       "6-element Vector{Float32}:\n",
       " 0.30073044\n",
       " 0.21307573\n",
       " 0.4005932\n",
       " 0.65488553\n",
       " 0.7253752\n",
       " 0.6941348"
      ]
     },
     "metadata": {},
     "output_type": "display_data"
    }
   ],
   "source": [
    "x = rand(8)\n",
    "\n",
    "b = Float32[0.25 * x[i-1] + 0.5 * x[i] + 0.25 * x[i+1] for i= 2:length(x)-1]"
   ]
  },
  {
   "cell_type": "code",
   "execution_count": 17,
   "metadata": {},
   "outputs": [
    {
     "data": {
      "text/plain": [
       "2.718281828459045"
      ]
     },
     "metadata": {},
     "output_type": "display_data"
    }
   ],
   "source": [
    "\n",
    "function foo(x)\n",
    "    if x > 0\n",
    "        return \"positive\"\n",
    "    end \n",
    "\n",
    "    return \"nonpositive\"\n",
    "end #end function foo\n",
    "\n",
    "foo(0)\n",
    "\n",
    "\n",
    "f(x , a=1) = exp(cos(a *  x))\n",
    "\n",
    "f(pi)\n",
    "\n",
    "f(pi, 2)"
   ]
  },
  {
   "cell_type": "code",
   "execution_count": 20,
   "metadata": {},
   "outputs": [],
   "source": [
    "y_vec = similar(x_vec)\n",
    "for (i, x) in enumerate(x_vec)\n",
    "    y_vec[i] = sin(x)\n",
    "end"
   ]
  },
  {
   "cell_type": "code",
   "execution_count": 27,
   "metadata": {},
   "outputs": [
    {
     "ename": "AssertionError",
     "evalue": "AssertionError: k > 0",
     "output_type": "error",
     "traceback": [
      "AssertionError: k > 0\n",
      "\n",
      "Stacktrace:\n",
      "  [1] chisq(k::Int64)\n",
      "    @ Main c:\\Users\\eglej\\OneDrive\\Dokumente\\Github\\quantecon-julia\\chapter3.ipynb:4\n",
      "  [2] top-level scope\n",
      "    @ c:\\Users\\eglej\\OneDrive\\Dokumente\\Github\\quantecon-julia\\chapter3.ipynb:10\n",
      "  [3] eval\n",
      "    @ .\\boot.jl:373 [inlined]\n",
      "  [4] include_string(mapexpr::typeof(REPL.softscope), mod::Module, code::String, filename::String)\n",
      "    @ Base .\\loading.jl:1196\n",
      "  [5] #invokelatest#2\n",
      "    @ .\\essentials.jl:716 [inlined]\n",
      "  [6] invokelatest\n",
      "    @ .\\essentials.jl:714 [inlined]\n",
      "  [7] (::VSCodeServer.var\"#164#165\"{VSCodeServer.NotebookRunCellArguments, String})()\n",
      "    @ VSCodeServer c:\\Users\\eglej\\.vscode\\extensions\\julialang.language-julia-1.6.17\\scripts\\packages\\VSCodeServer\\src\\serve_notebook.jl:19\n",
      "  [8] withpath(f::VSCodeServer.var\"#164#165\"{VSCodeServer.NotebookRunCellArguments, String}, path::String)\n",
      "    @ VSCodeServer c:\\Users\\eglej\\.vscode\\extensions\\julialang.language-julia-1.6.17\\scripts\\packages\\VSCodeServer\\src\\repl.jl:184\n",
      "  [9] notebook_runcell_request(conn::VSCodeServer.JSONRPC.JSONRPCEndpoint{Base.PipeEndpoint, Base.PipeEndpoint}, params::VSCodeServer.NotebookRunCellArguments)\n",
      "    @ VSCodeServer c:\\Users\\eglej\\.vscode\\extensions\\julialang.language-julia-1.6.17\\scripts\\packages\\VSCodeServer\\src\\serve_notebook.jl:13\n",
      " [10] dispatch_msg(x::VSCodeServer.JSONRPC.JSONRPCEndpoint{Base.PipeEndpoint, Base.PipeEndpoint}, dispatcher::VSCodeServer.JSONRPC.MsgDispatcher, msg::Dict{String, Any})\n",
      "    @ VSCodeServer.JSONRPC c:\\Users\\eglej\\.vscode\\extensions\\julialang.language-julia-1.6.17\\scripts\\packages\\JSONRPC\\src\\typed.jl:67\n",
      " [11] serve_notebook(pipename::String, outputchannel_logger::Base.CoreLogging.SimpleLogger; crashreporting_pipename::String)\n",
      "    @ VSCodeServer c:\\Users\\eglej\\.vscode\\extensions\\julialang.language-julia-1.6.17\\scripts\\packages\\VSCodeServer\\src\\serve_notebook.jl:136\n",
      " [12] top-level scope\n",
      "    @ c:\\Users\\eglej\\.vscode\\extensions\\julialang.language-julia-1.6.17\\scripts\\notebook\\notebook.jl:32\n",
      " [13] include(mod::Module, _path::String)\n",
      "    @ Base .\\Base.jl:418\n",
      " [14] exec_options(opts::Base.JLOptions)\n",
      "    @ Base .\\client.jl:292\n",
      " [15] _start()\n",
      "    @ Base .\\client.jl:495"
     ]
    }
   ],
   "source": [
    "\n",
    "function chisq(k)\n",
    "    \n",
    "    @assert k > 0\n",
    "    z = randn(k)\n",
    "    return sum( x^2 for x in  z)\n",
    "\n",
    "end #end function chisq\n",
    "\n",
    "chisq(3)\n",
    "\n",
    "chisq.([2,4,6])"
   ]
  }
 ],
 "metadata": {
  "kernelspec": {
   "display_name": "Julia 1.7.2",
   "language": "julia",
   "name": "julia-1.7"
  },
  "language_info": {
   "file_extension": ".jl",
   "mimetype": "application/julia",
   "name": "julia",
   "version": "1.7.2"
  },
  "orig_nbformat": 4
 },
 "nbformat": 4,
 "nbformat_minor": 2
}
