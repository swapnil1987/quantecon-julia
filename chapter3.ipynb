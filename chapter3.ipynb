{
 "cells": [
  {
   "cell_type": "code",
   "execution_count": null,
   "metadata": {},
   "outputs": [],
   "source": [
    "using LinearAlgebra, Statistics\n",
    "\n",
    "x =  true\n",
    "\n",
    "typeof(x)"
   ]
  },
  {
   "cell_type": "code",
   "execution_count": null,
   "metadata": {},
   "outputs": [],
   "source": [
    "y = 1 < 2\n",
    "\n",
    "\n",
    "typeof(1.0)\n",
    "\n",
    "typeof(1)\n",
    "\n",
    "\n",
    "x =  2.0; y = 1;\n",
    "\n",
    "typeof(x * y)\n",
    "\n",
    "\n",
    "@show 2x - 3y\n",
    "\n",
    "@show x+  y;"
   ]
  },
  {
   "cell_type": "code",
   "execution_count": null,
   "metadata": {},
   "outputs": [],
   "source": [
    "\n",
    "x = 1 + 2im\n",
    "y = 1 - 2im\n",
    "\n",
    "x  * y"
   ]
  },
  {
   "cell_type": "code",
   "execution_count": null,
   "metadata": {},
   "outputs": [],
   "source": [
    "\n",
    "x = \"foobar\";\n",
    "\n",
    "typeof(x)\n",
    "\n",
    "\n",
    "\"x = $x\"\n",
    "\n",
    "\n",
    "x = 10.0; y = 30.0;\n",
    "\"x+y = $(x + y)\"\n",
    "\n",
    "\n",
    "s = \"Charlie don't surf\"\n",
    "\n",
    "split(s)\n",
    "\n",
    "replace(s, \"surf\" => \"ski\")"
   ]
  },
  {
   "cell_type": "code",
   "execution_count": null,
   "metadata": {},
   "outputs": [],
   "source": [
    "x = (\"foo\", \"bar\")\n",
    "\n",
    "y = (x, \"total\", 3)\n",
    "\n",
    "typeof(x)\n",
    "typeof(y)"
   ]
  },
  {
   "cell_type": "code",
   "execution_count": null,
   "metadata": {},
   "outputs": [],
   "source": [
    "function f()\n",
    "    return \"foo\",1\n",
    "end #end function f \n",
    "\n",
    "f()"
   ]
  },
  {
   "cell_type": "code",
   "execution_count": null,
   "metadata": {},
   "outputs": [],
   "source": [
    "x = [10,20,30,40]\n",
    "\n",
    "x[end]\n",
    "\n",
    "x[1:3]"
   ]
  },
  {
   "cell_type": "code",
   "execution_count": null,
   "metadata": {},
   "outputs": [],
   "source": [
    "d = Dict(\"name\" => \"Frodo\", \"age\" => 51)\n",
    "\n",
    "d[\"age\"]\n",
    "\n",
    "keys(d)\n",
    "values(d)"
   ]
  },
  {
   "cell_type": "code",
   "execution_count": null,
   "metadata": {},
   "outputs": [],
   "source": [
    "\n",
    "actions = [\"surf\", \"ski\"]\n",
    "\n",
    "for act in actions\n",
    "    println(\"Charlie doesn't $act\")\n",
    "end #end for act "
   ]
  },
  {
   "cell_type": "code",
   "execution_count": null,
   "metadata": {},
   "outputs": [],
   "source": [
    "countries = (\"Japan\", \"Korea\", \"China\")\n",
    "cities = (\"Tokyo\", \"Seoul\", \"Beijing\")\n",
    "for (country, city) in zip(countries, cities)\n",
    "    println(\"The capital of $country is $city\")\n",
    "end"
   ]
  },
  {
   "cell_type": "code",
   "execution_count": null,
   "metadata": {},
   "outputs": [],
   "source": [
    "animals = [\"dog\", \"cat\", \"bird\"];   # Semicolon suppresses output\n",
    "\n",
    "plurals = [animal * \"s\" for animal in animals]\n",
    "\n",
    "a = [i^j for i in 1:3, j in 4:6]"
   ]
  },
  {
   "cell_type": "code",
   "execution_count": null,
   "metadata": {},
   "outputs": [],
   "source": [
    "using BenchmarkTools\n",
    "xs = 1:1000000000\n",
    "f(x) = x^2\n",
    "@btime sum(f(x) for x in xs)"
   ]
  },
  {
   "cell_type": "code",
   "execution_count": null,
   "metadata": {},
   "outputs": [],
   "source": [
    "x = rand(8)\n",
    "\n",
    "b = Float32[0.25 * x[i-1] + 0.5 * x[i] + 0.25 * x[i+1] for i= 2:length(x)-1]"
   ]
  },
  {
   "cell_type": "code",
   "execution_count": null,
   "metadata": {},
   "outputs": [],
   "source": [
    "\n",
    "function foo(x)\n",
    "    if x > 0\n",
    "        return \"positive\"\n",
    "    end \n",
    "\n",
    "    return \"nonpositive\"\n",
    "end #end function foo\n",
    "\n",
    "foo(0)\n",
    "\n",
    "\n",
    "f(x , a=1) = exp(cos(a *  x))\n",
    "\n",
    "f(pi)\n",
    "\n",
    "f(pi, 2)"
   ]
  },
  {
   "cell_type": "code",
   "execution_count": null,
   "metadata": {},
   "outputs": [],
   "source": [
    "y_vec = similar(x_vec)\n",
    "for (i, x) in enumerate(x_vec)\n",
    "    y_vec[i] = sin(x)\n",
    "end"
   ]
  },
  {
   "cell_type": "code",
   "execution_count": null,
   "metadata": {},
   "outputs": [],
   "source": [
    "\n",
    "function chisq(k)\n",
    "    \n",
    "    @assert k > 0\n",
    "    z = randn(k)\n",
    "    return sum( x^2 for x in  z)\n",
    "\n",
    "end #end function chisq\n",
    "\n",
    "chisq(3)\n",
    "\n",
    "chisq.([2,4,6])\n",
    "\n",
    "\n"
   ]
  }
 ],
 "metadata": {
  "kernelspec": {
   "display_name": "Julia 1.7.2",
   "language": "julia",
   "name": "julia-1.7"
  },
  "language_info": {
   "file_extension": ".jl",
   "mimetype": "application/julia",
   "name": "julia",
   "version": "1.7.2"
  },
  "orig_nbformat": 4
 },
 "nbformat": 4,
 "nbformat_minor": 2
}
